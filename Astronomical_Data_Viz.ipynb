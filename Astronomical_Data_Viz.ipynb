{
 "cells": [
  {
   "cell_type": "code",
   "execution_count": 1,
   "metadata": {
    "id": "umjrtoyzXPYz"
   },
   "outputs": [],
   "source": [
    "# os helps creates directories and store our vis.\n",
    "import os"
   ]
  },
  {
   "cell_type": "code",
   "execution_count": 2,
   "metadata": {
    "id": "tTzeGLiZXQQA"
   },
   "outputs": [],
   "source": [
    "# pd helps to open csv files and explore it step by step\n",
    "import pandas as pd"
   ]
  },
  {
   "cell_type": "code",
   "execution_count": 3,
   "metadata": {
    "id": "maUziafiXRjM"
   },
   "outputs": [],
   "source": [
    "# np helps to create array from csv files\n",
    "import numpy as np"
   ]
  },
  {
   "cell_type": "code",
   "execution_count": 4,
   "metadata": {
    "id": "neO7ABBGXW92"
   },
   "outputs": [],
   "source": [
    "# sns and plt helps with vis.\n",
    "import seaborn as sns\n",
    "import matplotlib.pyplot as plt"
   ]
  },
  {
   "cell_type": "code",
   "execution_count": 5,
   "metadata": {
    "id": "wtq6A9tBXakP"
   },
   "outputs": [],
   "source": [
    "star_df = pd.read_csv('https://drive.google.com/uc?id=1BQVc6MHjQFtDC9iP1isT_K4ojVe_Oil-')"
   ]
  },
  {
   "cell_type": "code",
   "execution_count": 6,
   "metadata": {
    "colab": {
     "base_uri": "https://localhost:8080/",
     "height": 203
    },
    "id": "Q-FbPqYGXuHv",
    "outputId": "98fe5ca7-dec7-4145-e296-04240fb21be5"
   },
   "outputs": [
    {
     "data": {
      "text/plain": [
       "pandas.core.frame.DataFrame"
      ]
     },
     "execution_count": 6,
     "metadata": {},
     "output_type": "execute_result"
    }
   ],
   "source": [
    "type(star_df)"
   ]
  },
  {
   "cell_type": "code",
   "execution_count": 7,
   "metadata": {
    "colab": {
     "base_uri": "https://localhost:8080/",
     "height": 204
    },
    "id": "gB1mIAr3X9x7",
    "outputId": "6cae6f00-36b4-4ddd-9c28-6b8515630c34"
   },
   "outputs": [
    {
     "data": {
      "text/html": [
       "<div>\n",
       "<style scoped>\n",
       "    .dataframe tbody tr th:only-of-type {\n",
       "        vertical-align: middle;\n",
       "    }\n",
       "\n",
       "    .dataframe tbody tr th {\n",
       "        vertical-align: top;\n",
       "    }\n",
       "\n",
       "    .dataframe thead th {\n",
       "        text-align: right;\n",
       "    }\n",
       "</style>\n",
       "<table border=\"1\" class=\"dataframe\">\n",
       "  <thead>\n",
       "    <tr style=\"text-align: right;\">\n",
       "      <th></th>\n",
       "      <th>Temperature (K)</th>\n",
       "      <th>Luminosity(L/Lo)</th>\n",
       "      <th>Radius(R/Ro)</th>\n",
       "      <th>Absolute magnitude(Mv)</th>\n",
       "      <th>Star type</th>\n",
       "      <th>Star color</th>\n",
       "      <th>Spectral Class</th>\n",
       "    </tr>\n",
       "  </thead>\n",
       "  <tbody>\n",
       "    <tr>\n",
       "      <th>0</th>\n",
       "      <td>3068</td>\n",
       "      <td>0.002400</td>\n",
       "      <td>0.1700</td>\n",
       "      <td>16.12</td>\n",
       "      <td>0</td>\n",
       "      <td>Red</td>\n",
       "      <td>M</td>\n",
       "    </tr>\n",
       "    <tr>\n",
       "      <th>1</th>\n",
       "      <td>3042</td>\n",
       "      <td>0.000500</td>\n",
       "      <td>0.1542</td>\n",
       "      <td>16.60</td>\n",
       "      <td>0</td>\n",
       "      <td>Red</td>\n",
       "      <td>M</td>\n",
       "    </tr>\n",
       "    <tr>\n",
       "      <th>2</th>\n",
       "      <td>2600</td>\n",
       "      <td>0.000300</td>\n",
       "      <td>0.1020</td>\n",
       "      <td>18.70</td>\n",
       "      <td>0</td>\n",
       "      <td>Red</td>\n",
       "      <td>M</td>\n",
       "    </tr>\n",
       "    <tr>\n",
       "      <th>3</th>\n",
       "      <td>2800</td>\n",
       "      <td>0.000200</td>\n",
       "      <td>0.1600</td>\n",
       "      <td>16.65</td>\n",
       "      <td>0</td>\n",
       "      <td>Red</td>\n",
       "      <td>M</td>\n",
       "    </tr>\n",
       "    <tr>\n",
       "      <th>4</th>\n",
       "      <td>1939</td>\n",
       "      <td>0.000138</td>\n",
       "      <td>0.1030</td>\n",
       "      <td>20.06</td>\n",
       "      <td>0</td>\n",
       "      <td>Red</td>\n",
       "      <td>M</td>\n",
       "    </tr>\n",
       "  </tbody>\n",
       "</table>\n",
       "</div>"
      ],
      "text/plain": [
       "   Temperature (K)  Luminosity(L/Lo)  Radius(R/Ro)  Absolute magnitude(Mv)  \\\n",
       "0             3068          0.002400        0.1700                   16.12   \n",
       "1             3042          0.000500        0.1542                   16.60   \n",
       "2             2600          0.000300        0.1020                   18.70   \n",
       "3             2800          0.000200        0.1600                   16.65   \n",
       "4             1939          0.000138        0.1030                   20.06   \n",
       "\n",
       "   Star type Star color Spectral Class  \n",
       "0          0        Red              M  \n",
       "1          0        Red              M  \n",
       "2          0        Red              M  \n",
       "3          0        Red              M  \n",
       "4          0        Red              M  "
      ]
     },
     "execution_count": 7,
     "metadata": {},
     "output_type": "execute_result"
    }
   ],
   "source": [
    "star_df.head()"
   ]
  },
  {
   "cell_type": "code",
   "execution_count": 8,
   "metadata": {
    "colab": {
     "base_uri": "https://localhost:8080/",
     "height": 359
    },
    "id": "w_b284O-Zxwj",
    "outputId": "43dca284-25ab-485f-9fd5-d40f339ca72d"
   },
   "outputs": [
    {
     "data": {
      "text/html": [
       "<div>\n",
       "<style scoped>\n",
       "    .dataframe tbody tr th:only-of-type {\n",
       "        vertical-align: middle;\n",
       "    }\n",
       "\n",
       "    .dataframe tbody tr th {\n",
       "        vertical-align: top;\n",
       "    }\n",
       "\n",
       "    .dataframe thead th {\n",
       "        text-align: right;\n",
       "    }\n",
       "</style>\n",
       "<table border=\"1\" class=\"dataframe\">\n",
       "  <thead>\n",
       "    <tr style=\"text-align: right;\">\n",
       "      <th></th>\n",
       "      <th>Temperature (K)</th>\n",
       "      <th>Luminosity(L/Lo)</th>\n",
       "      <th>Radius(R/Ro)</th>\n",
       "      <th>Absolute magnitude(Mv)</th>\n",
       "      <th>Star type</th>\n",
       "      <th>Star color</th>\n",
       "      <th>Spectral Class</th>\n",
       "    </tr>\n",
       "  </thead>\n",
       "  <tbody>\n",
       "    <tr>\n",
       "      <th>193</th>\n",
       "      <td>3212</td>\n",
       "      <td>0.001600</td>\n",
       "      <td>0.37800</td>\n",
       "      <td>12.854</td>\n",
       "      <td>1</td>\n",
       "      <td>Red</td>\n",
       "      <td>M</td>\n",
       "    </tr>\n",
       "    <tr>\n",
       "      <th>171</th>\n",
       "      <td>3500</td>\n",
       "      <td>138000.000000</td>\n",
       "      <td>1420.00000</td>\n",
       "      <td>-8.180</td>\n",
       "      <td>5</td>\n",
       "      <td>Red</td>\n",
       "      <td>M</td>\n",
       "    </tr>\n",
       "    <tr>\n",
       "      <th>68</th>\n",
       "      <td>2774</td>\n",
       "      <td>0.000360</td>\n",
       "      <td>0.11800</td>\n",
       "      <td>17.390</td>\n",
       "      <td>0</td>\n",
       "      <td>Red</td>\n",
       "      <td>M</td>\n",
       "    </tr>\n",
       "    <tr>\n",
       "      <th>15</th>\n",
       "      <td>3340</td>\n",
       "      <td>0.003800</td>\n",
       "      <td>0.24000</td>\n",
       "      <td>13.070</td>\n",
       "      <td>1</td>\n",
       "      <td>Red</td>\n",
       "      <td>M</td>\n",
       "    </tr>\n",
       "    <tr>\n",
       "      <th>194</th>\n",
       "      <td>3523</td>\n",
       "      <td>0.005400</td>\n",
       "      <td>0.31900</td>\n",
       "      <td>12.430</td>\n",
       "      <td>1</td>\n",
       "      <td>Red</td>\n",
       "      <td>M</td>\n",
       "    </tr>\n",
       "    <tr>\n",
       "      <th>25</th>\n",
       "      <td>12990</td>\n",
       "      <td>0.000085</td>\n",
       "      <td>0.00984</td>\n",
       "      <td>12.230</td>\n",
       "      <td>2</td>\n",
       "      <td>Yellow-White</td>\n",
       "      <td>F</td>\n",
       "    </tr>\n",
       "    <tr>\n",
       "      <th>158</th>\n",
       "      <td>13023</td>\n",
       "      <td>998.000000</td>\n",
       "      <td>6.21000</td>\n",
       "      <td>-1.380</td>\n",
       "      <td>3</td>\n",
       "      <td>Blue-White</td>\n",
       "      <td>A</td>\n",
       "    </tr>\n",
       "    <tr>\n",
       "      <th>101</th>\n",
       "      <td>40000</td>\n",
       "      <td>813000.000000</td>\n",
       "      <td>14.00000</td>\n",
       "      <td>-6.230</td>\n",
       "      <td>4</td>\n",
       "      <td>Blue</td>\n",
       "      <td>O</td>\n",
       "    </tr>\n",
       "    <tr>\n",
       "      <th>218</th>\n",
       "      <td>17140</td>\n",
       "      <td>883.000000</td>\n",
       "      <td>5.65300</td>\n",
       "      <td>-2.640</td>\n",
       "      <td>3</td>\n",
       "      <td>Blue-White</td>\n",
       "      <td>B</td>\n",
       "    </tr>\n",
       "    <tr>\n",
       "      <th>99</th>\n",
       "      <td>36108</td>\n",
       "      <td>198000.000000</td>\n",
       "      <td>10.20000</td>\n",
       "      <td>-4.400</td>\n",
       "      <td>3</td>\n",
       "      <td>Blue</td>\n",
       "      <td>O</td>\n",
       "    </tr>\n",
       "  </tbody>\n",
       "</table>\n",
       "</div>"
      ],
      "text/plain": [
       "     Temperature (K)  Luminosity(L/Lo)  Radius(R/Ro)  Absolute magnitude(Mv)  \\\n",
       "193             3212          0.001600       0.37800                  12.854   \n",
       "171             3500     138000.000000    1420.00000                  -8.180   \n",
       "68              2774          0.000360       0.11800                  17.390   \n",
       "15              3340          0.003800       0.24000                  13.070   \n",
       "194             3523          0.005400       0.31900                  12.430   \n",
       "25             12990          0.000085       0.00984                  12.230   \n",
       "158            13023        998.000000       6.21000                  -1.380   \n",
       "101            40000     813000.000000      14.00000                  -6.230   \n",
       "218            17140        883.000000       5.65300                  -2.640   \n",
       "99             36108     198000.000000      10.20000                  -4.400   \n",
       "\n",
       "     Star type    Star color Spectral Class  \n",
       "193          1           Red              M  \n",
       "171          5           Red              M  \n",
       "68           0           Red              M  \n",
       "15           1           Red              M  \n",
       "194          1           Red              M  \n",
       "25           2  Yellow-White              F  \n",
       "158          3    Blue-White              A  \n",
       "101          4          Blue              O  \n",
       "218          3    Blue-White              B  \n",
       "99           3          Blue              O  "
      ]
     },
     "execution_count": 8,
     "metadata": {},
     "output_type": "execute_result"
    }
   ],
   "source": [
    "star_df.sample(10)"
   ]
  },
  {
   "cell_type": "code",
   "execution_count": 9,
   "metadata": {
    "colab": {
     "base_uri": "https://localhost:8080/"
    },
    "id": "mC--SjfMX_mN",
    "outputId": "06dbad93-f695-4a70-8256-f9cab7f8f348"
   },
   "outputs": [
    {
     "name": "stdout",
     "output_type": "stream",
     "text": [
      "<class 'pandas.core.frame.DataFrame'>\n",
      "RangeIndex: 240 entries, 0 to 239\n",
      "Data columns (total 7 columns):\n",
      " #   Column                  Non-Null Count  Dtype  \n",
      "---  ------                  --------------  -----  \n",
      " 0   Temperature (K)         240 non-null    int64  \n",
      " 1   Luminosity(L/Lo)        240 non-null    float64\n",
      " 2   Radius(R/Ro)            240 non-null    float64\n",
      " 3   Absolute magnitude(Mv)  240 non-null    float64\n",
      " 4   Star type               240 non-null    int64  \n",
      " 5   Star color              240 non-null    object \n",
      " 6   Spectral Class          240 non-null    object \n",
      "dtypes: float64(3), int64(2), object(2)\n",
      "memory usage: 13.3+ KB\n"
     ]
    }
   ],
   "source": [
    "star_df.info()"
   ]
  },
  {
   "cell_type": "code",
   "execution_count": 151,
   "metadata": {
    "id": "5vAb7KTeahTx"
   },
   "outputs": [],
   "source": [
    "folder_name = \"star_plots\"\n",
    "# if the folder exists it doesn't re-creates it, this is acheived using exist_ok=True\n",
    "os.makedirs(folder_name, exist_ok=True)\n",
    "base_dir = f\"./{folder_name}/\""
   ]
  },
  {
   "cell_type": "code",
   "execution_count": 11,
   "metadata": {
    "colab": {
     "base_uri": "https://localhost:8080/"
    },
    "id": "gXlsEd4NeKcM",
    "outputId": "fca9806b-56b2-43f2-e86a-c66568f8d20b"
   },
   "outputs": [
    {
     "data": {
      "text/plain": [
       "0      0\n",
       "1      0\n",
       "2      0\n",
       "3      0\n",
       "4      0\n",
       "      ..\n",
       "235    5\n",
       "236    5\n",
       "237    5\n",
       "238    5\n",
       "239    5\n",
       "Name: Star type, Length: 240, dtype: int64"
      ]
     },
     "execution_count": 11,
     "metadata": {},
     "output_type": "execute_result"
    }
   ],
   "source": [
    "star_df[\"Star type\"]"
   ]
  },
  {
   "cell_type": "code",
   "execution_count": 13,
   "metadata": {
    "colab": {
     "base_uri": "https://localhost:8080/",
     "height": 139
    },
    "id": "nXlfMjFyjb3b",
    "outputId": "eb2dc246-8759-47d5-c03a-29d38ee8e396"
   },
   "outputs": [
    {
     "data": {
      "text/plain": [
       "Star type\n",
       "0    40\n",
       "1    40\n",
       "2    40\n",
       "3    40\n",
       "4    40\n",
       "5    40\n",
       "Name: count, dtype: int64"
      ]
     },
     "execution_count": 13,
     "metadata": {},
     "output_type": "execute_result"
    }
   ],
   "source": [
    "star_df['Star type'].value_counts()"
   ]
  },
  {
   "cell_type": "code",
   "execution_count": 28,
   "metadata": {
    "id": "WtUCmRrFkfiK"
   },
   "outputs": [
    {
     "data": {
      "text/plain": [
       "<Axes: xlabel='Star type'>"
      ]
     },
     "execution_count": 28,
     "metadata": {},
     "output_type": "execute_result"
    },
    {
     "data": {
      "image/png": "[encoded data removed]",
      "text/plain": [
       "<Figure size 640x480 with 1 Axes>"
      ]
     },
     "metadata": {},
     "output_type": "display_data"
    }
   ],
   "source": [
    "star_df['Star type'].value_counts().plot(kind=\"bar\")"
   ]
  },
  {
   "cell_type": "code",
   "execution_count": 156,
   "metadata": {
    "scrolled": false
   },
   "outputs": [
    {
     "data": {
      "image/png": "[encoded data removed]",
      "text/plain": [
       "<Figure size 700x700 with 1 Axes>"
      ]
     },
     "metadata": {},
     "output_type": "display_data"
    }
   ],
   "source": [
    "# setting the bar color and x label lists\n",
    "bar_colors=['brown', 'red', 'white', 'yellow', 'lightblue', 'orange']\n",
    "x_labels=['Brown\\nDwarf', 'Red\\nDwarf', 'White\\nDwarf', 'Main\\nSequence', 'Supergiants', 'Hypergiants']\n",
    "\n",
    "# setting the figure size in inches\n",
    "# figsize=(inch, inch)\n",
    "plt.figure(figsize=(7,7))\n",
    "\n",
    "# setting the plot style dark or default(white)\n",
    "plt.style.use('dark_background')\n",
    "# plt.style.use('default')\n",
    "\n",
    "# plotting the basic bar graph\n",
    "ax = star_df['Star type'].value_counts().plot(kind=\"bar\", color=bar_colors)\n",
    "\n",
    "ax.bar_label(ax.containers[0], color='red')\n",
    "\n",
    "# setting the plot title, labeling the x and y ticks\n",
    "plt.title(\"Visualize star count per star type\", color='royalblue', weight=\"bold\")\n",
    "plt.yticks(color=\"tab:pink\")\n",
    "plt.ylabel(\"# stars\", color=\"white\", weight=\"bold\", fontsize=13)\n",
    "plt.xticks(ticks=[0,1,2,3,4,5], labels=x_labels, rotation=45, color='lime')\n",
    "\n",
    "# save the plot\n",
    "# save before plt.show() -> after plt.show() is called, a new figure is created.\n",
    "# print(base_dir)\n",
    "plt.savefig(base_dir+'barplot_star_count.png')\n",
    "\n",
    "# remove plt.show() and it will display the intermediate steps, followed by the plot\n",
    "# this ensures only the final plot is displayed\n",
    "plt.show()"
   ]
  },
  {
   "cell_type": "code",
   "execution_count": 85,
   "metadata": {},
   "outputs": [
    {
     "name": "stdout",
     "output_type": "stream",
     "text": [
      "<BarContainer object of 6 artists>\n",
      "Rectangle(xy=(-0.25, 0), width=0.5, height=40, angle=0)\n",
      "Rectangle(xy=(0.75, 0), width=0.5, height=40, angle=0)\n",
      "Rectangle(xy=(1.75, 0), width=0.5, height=40, angle=0)\n",
      "Rectangle(xy=(2.75, 0), width=0.5, height=40, angle=0)\n",
      "Rectangle(xy=(3.75, 0), width=0.5, height=40, angle=0)\n",
      "Rectangle(xy=(4.75, 0), width=0.5, height=40, angle=0)\n"
     ]
    }
   ],
   "source": [
    "print(ax.containers[0])\n",
    "print(ax.containers[0][0])\n",
    "print(ax.containers[0][1])\n",
    "print(ax.containers[0][2])\n",
    "print(ax.containers[0][3])\n",
    "print(ax.containers[0][4])\n",
    "print(ax.containers[0][5])"
   ]
  },
  {
   "cell_type": "code",
   "execution_count": 57,
   "metadata": {},
   "outputs": [
    {
     "data": {
      "text/plain": [
       "<Axes: xlabel='Star type'>"
      ]
     },
     "execution_count": 57,
     "metadata": {},
     "output_type": "execute_result"
    }
   ],
   "source": [
    "ax\n",
    "# print(ax)"
   ]
  },
  {
   "cell_type": "code",
   "execution_count": 58,
   "metadata": {},
   "outputs": [
    {
     "name": "stdout",
     "output_type": "stream",
     "text": [
      "Axes(0.125,0.11;0.775x0.77)\n"
     ]
    }
   ],
   "source": [
    "print(ax)"
   ]
  },
  {
   "cell_type": "code",
   "execution_count": 46,
   "metadata": {},
   "outputs": [],
   "source": [
    "ax.bar_label?"
   ]
  },
  {
   "cell_type": "code",
   "execution_count": 62,
   "metadata": {},
   "outputs": [
    {
     "name": "stdout",
     "output_type": "stream",
     "text": [
      "<bound method Axes.bar_label of <Axes: xlabel='Star type'>>\n"
     ]
    }
   ],
   "source": [
    "print(ax.bar_label)"
   ]
  },
  {
   "cell_type": "code",
   "execution_count": 39,
   "metadata": {
    "scrolled": true
   },
   "outputs": [
    {
     "data": {
      "text/plain": [
       "matplotlib.axes._axes.Axes"
      ]
     },
     "execution_count": 39,
     "metadata": {},
     "output_type": "execute_result"
    }
   ],
   "source": [
    "type(ax)"
   ]
  },
  {
   "cell_type": "code",
   "execution_count": 36,
   "metadata": {},
   "outputs": [],
   "source": [
    "plt.figure?"
   ]
  },
  {
   "cell_type": "code",
   "execution_count": 78,
   "metadata": {},
   "outputs": [
    {
     "data": {
      "text/plain": [
       "<function matplotlib.style.core.use(style)>"
      ]
     },
     "execution_count": 78,
     "metadata": {},
     "output_type": "execute_result"
    }
   ],
   "source": [
    "plt.style.use"
   ]
  },
  {
   "cell_type": "code",
   "execution_count": 79,
   "metadata": {},
   "outputs": [
    {
     "name": "stdout",
     "output_type": "stream",
     "text": [
      "<function use at 0x143b7cb80>\n"
     ]
    }
   ],
   "source": [
    "print(plt.style.use)"
   ]
  },
  {
   "cell_type": "code",
   "execution_count": 80,
   "metadata": {},
   "outputs": [],
   "source": [
    "plt.style.use?"
   ]
  },
  {
   "cell_type": "code",
   "execution_count": 142,
   "metadata": {},
   "outputs": [
    {
     "data": {
      "text/plain": [
       "[Text(0, 0, '40'),\n",
       " Text(0, 0, '40'),\n",
       " Text(0, 0, '40'),\n",
       " Text(0, 0, '40'),\n",
       " Text(0, 0, '40'),\n",
       " Text(0, 0, '40')]"
      ]
     },
     "execution_count": 142,
     "metadata": {},
     "output_type": "execute_result"
    }
   ],
   "source": [
    "ax.bar_label(ax.containers[0], color='red')"
   ]
  },
  {
   "cell_type": "code",
   "execution_count": null,
   "metadata": {},
   "outputs": [],
   "source": []
  }
 ],
 "metadata": {
  "colab": {
   "provenance": []
  },
  "kernelspec": {
   "display_name": "Python 3 (ipykernel)",
   "language": "python",
   "name": "python3"
  },
  "language_info": {
   "codemirror_mode": {
    "name": "ipython",
    "version": 3
   },
   "file_extension": ".py",
   "mimetype": "text/x-python",
   "name": "python",
   "nbconvert_exporter": "python",
   "pygments_lexer": "ipython3",
   "version": "3.11.5"
  }
 },
 "nbformat": 4,
 "nbformat_minor": 1
}
