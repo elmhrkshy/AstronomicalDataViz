{
 "cells": [
  {
   "cell_type": "code",
   "execution_count": 1,
   "metadata": {
    "id": "umjrtoyzXPYz"
   },
   "outputs": [],
   "source": [
    "# os helps creates directories and store our vis.\n",
    "import os"
   ]
  },
  {
   "cell_type": "code",
   "execution_count": 2,
   "metadata": {
    "id": "tTzeGLiZXQQA"
   },
   "outputs": [],
   "source": [
    "# pd helps to open csv files and explore it step by step\n",
    "import pandas as pd"
   ]
  },
  {
   "cell_type": "code",
   "execution_count": 3,
   "metadata": {
    "id": "maUziafiXRjM"
   },
   "outputs": [],
   "source": [
    "# np helps to create array from csv files\n",
    "import numpy as np"
   ]
  },
  {
   "cell_type": "code",
   "execution_count": 4,
   "metadata": {
    "id": "neO7ABBGXW92"
   },
   "outputs": [],
   "source": [
    "# sns and plt helps with vis.\n",
    "import seaborn as sns\n",
    "import matplotlib.pyplot as plt"
   ]
  },
  {
   "cell_type": "code",
   "execution_count": 5,
   "metadata": {
    "id": "wtq6A9tBXakP"
   },
   "outputs": [],
   "source": [
    "star_df = pd.read_csv('./csv_data/cleaned_star_data.csv')"
   ]
  },
  {
   "cell_type": "code",
   "execution_count": 6,
   "metadata": {
    "colab": {
     "base_uri": "https://localhost:8080/",
     "height": 203
    },
    "id": "Q-FbPqYGXuHv",
    "outputId": "98fe5ca7-dec7-4145-e296-04240fb21be5"
   },
   "outputs": [
    {
     "data": {
      "text/plain": [
       "pandas.core.frame.DataFrame"
      ]
     },
     "execution_count": 6,
     "metadata": {},
     "output_type": "execute_result"
    }
   ],
   "source": [
    "type(star_df)"
   ]
  },
  {
   "cell_type": "code",
   "execution_count": 7,
   "metadata": {
    "colab": {
     "base_uri": "https://localhost:8080/",
     "height": 204
    },
    "id": "gB1mIAr3X9x7",
    "outputId": "6cae6f00-36b4-4ddd-9c28-6b8515630c34"
   },
   "outputs": [
    {
     "data": {
      "text/html": [
       "<div>\n",
       "<style scoped>\n",
       "    .dataframe tbody tr th:only-of-type {\n",
       "        vertical-align: middle;\n",
       "    }\n",
       "\n",
       "    .dataframe tbody tr th {\n",
       "        vertical-align: top;\n",
       "    }\n",
       "\n",
       "    .dataframe thead th {\n",
       "        text-align: right;\n",
       "    }\n",
       "</style>\n",
       "<table border=\"1\" class=\"dataframe\">\n",
       "  <thead>\n",
       "    <tr style=\"text-align: right;\">\n",
       "      <th></th>\n",
       "      <th>Temperature (K)</th>\n",
       "      <th>Luminosity(L/Lo)</th>\n",
       "      <th>Radius(R/Ro)</th>\n",
       "      <th>Absolute magnitude(Mv)</th>\n",
       "      <th>Star type</th>\n",
       "      <th>Star color</th>\n",
       "      <th>Spectral Class</th>\n",
       "    </tr>\n",
       "  </thead>\n",
       "  <tbody>\n",
       "    <tr>\n",
       "      <th>0</th>\n",
       "      <td>3068</td>\n",
       "      <td>0.002400</td>\n",
       "      <td>0.1700</td>\n",
       "      <td>16.12</td>\n",
       "      <td>0</td>\n",
       "      <td>Red</td>\n",
       "      <td>M</td>\n",
       "    </tr>\n",
       "    <tr>\n",
       "      <th>1</th>\n",
       "      <td>3042</td>\n",
       "      <td>0.000500</td>\n",
       "      <td>0.1542</td>\n",
       "      <td>16.60</td>\n",
       "      <td>0</td>\n",
       "      <td>Red</td>\n",
       "      <td>M</td>\n",
       "    </tr>\n",
       "    <tr>\n",
       "      <th>2</th>\n",
       "      <td>2600</td>\n",
       "      <td>0.000300</td>\n",
       "      <td>0.1020</td>\n",
       "      <td>18.70</td>\n",
       "      <td>0</td>\n",
       "      <td>Red</td>\n",
       "      <td>M</td>\n",
       "    </tr>\n",
       "    <tr>\n",
       "      <th>3</th>\n",
       "      <td>2800</td>\n",
       "      <td>0.000200</td>\n",
       "      <td>0.1600</td>\n",
       "      <td>16.65</td>\n",
       "      <td>0</td>\n",
       "      <td>Red</td>\n",
       "      <td>M</td>\n",
       "    </tr>\n",
       "    <tr>\n",
       "      <th>4</th>\n",
       "      <td>1939</td>\n",
       "      <td>0.000138</td>\n",
       "      <td>0.1030</td>\n",
       "      <td>20.06</td>\n",
       "      <td>0</td>\n",
       "      <td>Red</td>\n",
       "      <td>M</td>\n",
       "    </tr>\n",
       "  </tbody>\n",
       "</table>\n",
       "</div>"
      ],
      "text/plain": [
       "   Temperature (K)  Luminosity(L/Lo)  Radius(R/Ro)  Absolute magnitude(Mv)  \\\n",
       "0             3068          0.002400        0.1700                   16.12   \n",
       "1             3042          0.000500        0.1542                   16.60   \n",
       "2             2600          0.000300        0.1020                   18.70   \n",
       "3             2800          0.000200        0.1600                   16.65   \n",
       "4             1939          0.000138        0.1030                   20.06   \n",
       "\n",
       "   Star type Star color Spectral Class  \n",
       "0          0        Red              M  \n",
       "1          0        Red              M  \n",
       "2          0        Red              M  \n",
       "3          0        Red              M  \n",
       "4          0        Red              M  "
      ]
     },
     "execution_count": 7,
     "metadata": {},
     "output_type": "execute_result"
    }
   ],
   "source": [
    "star_df.head()"
   ]
  },
  {
   "cell_type": "code",
   "execution_count": 8,
   "metadata": {
    "colab": {
     "base_uri": "https://localhost:8080/",
     "height": 359
    },
    "id": "w_b284O-Zxwj",
    "outputId": "43dca284-25ab-485f-9fd5-d40f339ca72d"
   },
   "outputs": [
    {
     "data": {
      "text/html": [
       "<div>\n",
       "<style scoped>\n",
       "    .dataframe tbody tr th:only-of-type {\n",
       "        vertical-align: middle;\n",
       "    }\n",
       "\n",
       "    .dataframe tbody tr th {\n",
       "        vertical-align: top;\n",
       "    }\n",
       "\n",
       "    .dataframe thead th {\n",
       "        text-align: right;\n",
       "    }\n",
       "</style>\n",
       "<table border=\"1\" class=\"dataframe\">\n",
       "  <thead>\n",
       "    <tr style=\"text-align: right;\">\n",
       "      <th></th>\n",
       "      <th>Temperature (K)</th>\n",
       "      <th>Luminosity(L/Lo)</th>\n",
       "      <th>Radius(R/Ro)</th>\n",
       "      <th>Absolute magnitude(Mv)</th>\n",
       "      <th>Star type</th>\n",
       "      <th>Star color</th>\n",
       "      <th>Spectral Class</th>\n",
       "    </tr>\n",
       "  </thead>\n",
       "  <tbody>\n",
       "    <tr>\n",
       "      <th>158</th>\n",
       "      <td>13023</td>\n",
       "      <td>998.000000</td>\n",
       "      <td>6.21000</td>\n",
       "      <td>-1.380</td>\n",
       "      <td>3</td>\n",
       "      <td>Blue-White</td>\n",
       "      <td>A</td>\n",
       "    </tr>\n",
       "    <tr>\n",
       "      <th>36</th>\n",
       "      <td>6757</td>\n",
       "      <td>1.430000</td>\n",
       "      <td>1.12000</td>\n",
       "      <td>2.410</td>\n",
       "      <td>3</td>\n",
       "      <td>Yellow-White</td>\n",
       "      <td>F</td>\n",
       "    </tr>\n",
       "    <tr>\n",
       "      <th>203</th>\n",
       "      <td>13340</td>\n",
       "      <td>0.001090</td>\n",
       "      <td>0.01160</td>\n",
       "      <td>12.900</td>\n",
       "      <td>2</td>\n",
       "      <td>Blue</td>\n",
       "      <td>B</td>\n",
       "    </tr>\n",
       "    <tr>\n",
       "      <th>144</th>\n",
       "      <td>11900</td>\n",
       "      <td>0.000670</td>\n",
       "      <td>0.00898</td>\n",
       "      <td>11.380</td>\n",
       "      <td>2</td>\n",
       "      <td>Blue-White</td>\n",
       "      <td>B</td>\n",
       "    </tr>\n",
       "    <tr>\n",
       "      <th>62</th>\n",
       "      <td>2983</td>\n",
       "      <td>0.000240</td>\n",
       "      <td>0.09400</td>\n",
       "      <td>16.090</td>\n",
       "      <td>0</td>\n",
       "      <td>Red</td>\n",
       "      <td>M</td>\n",
       "    </tr>\n",
       "    <tr>\n",
       "      <th>88</th>\n",
       "      <td>13720</td>\n",
       "      <td>0.000180</td>\n",
       "      <td>0.00892</td>\n",
       "      <td>12.970</td>\n",
       "      <td>2</td>\n",
       "      <td>White</td>\n",
       "      <td>F</td>\n",
       "    </tr>\n",
       "    <tr>\n",
       "      <th>182</th>\n",
       "      <td>3419</td>\n",
       "      <td>0.000245</td>\n",
       "      <td>0.12600</td>\n",
       "      <td>17.560</td>\n",
       "      <td>0</td>\n",
       "      <td>Red</td>\n",
       "      <td>M</td>\n",
       "    </tr>\n",
       "    <tr>\n",
       "      <th>200</th>\n",
       "      <td>16790</td>\n",
       "      <td>0.001400</td>\n",
       "      <td>0.01210</td>\n",
       "      <td>12.870</td>\n",
       "      <td>2</td>\n",
       "      <td>Blue</td>\n",
       "      <td>B</td>\n",
       "    </tr>\n",
       "    <tr>\n",
       "      <th>167</th>\n",
       "      <td>26373</td>\n",
       "      <td>198000.000000</td>\n",
       "      <td>39.00000</td>\n",
       "      <td>-5.830</td>\n",
       "      <td>4</td>\n",
       "      <td>Blue</td>\n",
       "      <td>O</td>\n",
       "    </tr>\n",
       "    <tr>\n",
       "      <th>92</th>\n",
       "      <td>4077</td>\n",
       "      <td>0.085000</td>\n",
       "      <td>0.79500</td>\n",
       "      <td>6.228</td>\n",
       "      <td>3</td>\n",
       "      <td>Yellow-White</td>\n",
       "      <td>K</td>\n",
       "    </tr>\n",
       "  </tbody>\n",
       "</table>\n",
       "</div>"
      ],
      "text/plain": [
       "     Temperature (K)  Luminosity(L/Lo)  Radius(R/Ro)  Absolute magnitude(Mv)  \\\n",
       "158            13023        998.000000       6.21000                  -1.380   \n",
       "36              6757          1.430000       1.12000                   2.410   \n",
       "203            13340          0.001090       0.01160                  12.900   \n",
       "144            11900          0.000670       0.00898                  11.380   \n",
       "62              2983          0.000240       0.09400                  16.090   \n",
       "88             13720          0.000180       0.00892                  12.970   \n",
       "182             3419          0.000245       0.12600                  17.560   \n",
       "200            16790          0.001400       0.01210                  12.870   \n",
       "167            26373     198000.000000      39.00000                  -5.830   \n",
       "92              4077          0.085000       0.79500                   6.228   \n",
       "\n",
       "     Star type    Star color Spectral Class  \n",
       "158          3    Blue-White              A  \n",
       "36           3  Yellow-White              F  \n",
       "203          2          Blue              B  \n",
       "144          2    Blue-White              B  \n",
       "62           0           Red              M  \n",
       "88           2         White              F  \n",
       "182          0           Red              M  \n",
       "200          2          Blue              B  \n",
       "167          4          Blue              O  \n",
       "92           3  Yellow-White              K  "
      ]
     },
     "execution_count": 8,
     "metadata": {},
     "output_type": "execute_result"
    }
   ],
   "source": [
    "star_df.sample(10)"
   ]
  },
  {
   "cell_type": "code",
   "execution_count": 9,
   "metadata": {
    "colab": {
     "base_uri": "https://localhost:8080/"
    },
    "id": "mC--SjfMX_mN",
    "outputId": "06dbad93-f695-4a70-8256-f9cab7f8f348"
   },
   "outputs": [
    {
     "name": "stdout",
     "output_type": "stream",
     "text": [
      "<class 'pandas.core.frame.DataFrame'>\n",
      "RangeIndex: 240 entries, 0 to 239\n",
      "Data columns (total 7 columns):\n",
      " #   Column                  Non-Null Count  Dtype  \n",
      "---  ------                  --------------  -----  \n",
      " 0   Temperature (K)         240 non-null    int64  \n",
      " 1   Luminosity(L/Lo)        240 non-null    float64\n",
      " 2   Radius(R/Ro)            240 non-null    float64\n",
      " 3   Absolute magnitude(Mv)  240 non-null    float64\n",
      " 4   Star type               240 non-null    int64  \n",
      " 5   Star color              240 non-null    object \n",
      " 6   Spectral Class          240 non-null    object \n",
      "dtypes: float64(3), int64(2), object(2)\n",
      "memory usage: 13.3+ KB\n"
     ]
    }
   ],
   "source": [
    "star_df.info()"
   ]
  },
  {
   "cell_type": "code",
   "execution_count": 10,
   "metadata": {
    "id": "5vAb7KTeahTx"
   },
   "outputs": [],
   "source": [
    "folder_name = \"star_plots\"\n",
    "# if the folder exists it doesn't re-creates it, this is acheived using exist_ok=True\n",
    "os.makedirs(folder_name, exist_ok=True)\n",
    "base_dir = f\"./{folder_name}/\""
   ]
  },
  {
   "cell_type": "code",
   "execution_count": 11,
   "metadata": {
    "colab": {
     "base_uri": "https://localhost:8080/"
    },
    "id": "gXlsEd4NeKcM",
    "outputId": "fca9806b-56b2-43f2-e86a-c66568f8d20b"
   },
   "outputs": [
    {
     "data": {
      "text/plain": [
       "0      0\n",
       "1      0\n",
       "2      0\n",
       "3      0\n",
       "4      0\n",
       "      ..\n",
       "235    5\n",
       "236    5\n",
       "237    5\n",
       "238    5\n",
       "239    5\n",
       "Name: Star type, Length: 240, dtype: int64"
      ]
     },
     "execution_count": 11,
     "metadata": {},
     "output_type": "execute_result"
    }
   ],
   "source": [
    "star_df[\"Star type\"]"
   ]
  },
  {
   "cell_type": "code",
   "execution_count": 12,
   "metadata": {
    "colab": {
     "base_uri": "https://localhost:8080/",
     "height": 139
    },
    "id": "nXlfMjFyjb3b",
    "outputId": "eb2dc246-8759-47d5-c03a-29d38ee8e396"
   },
   "outputs": [
    {
     "data": {
      "text/plain": [
       "Star type\n",
       "0    40\n",
       "1    40\n",
       "2    40\n",
       "3    40\n",
       "4    40\n",
       "5    40\n",
       "Name: count, dtype: int64"
      ]
     },
     "execution_count": 12,
     "metadata": {},
     "output_type": "execute_result"
    }
   ],
   "source": [
    "star_df['Star type'].value_counts()"
   ]
  },
  {
   "cell_type": "code",
   "execution_count": 13,
   "metadata": {
    "id": "WtUCmRrFkfiK"
   },
   "outputs": [
    {
     "data": {
      "text/plain": [
       "<Axes: xlabel='Star type'>"
      ]
     },
     "execution_count": 13,
     "metadata": {},
     "output_type": "execute_result"
    },
    {
     "data": {
      "image/png": "[encoded data removed]",
      "text/plain": [
       "<Figure size 640x480 with 1 Axes>"
      ]
     },
     "metadata": {},
     "output_type": "display_data"
    }
   ],
   "source": [
    "star_df['Star type'].value_counts().plot(kind=\"bar\")"
   ]
  },
  {
   "cell_type": "markdown",
   "metadata": {},
   "source": [
    "# Plot using Matplotlib"
   ]
  },
  {
   "cell_type": "code",
   "execution_count": 34,
   "metadata": {
    "scrolled": false
   },
   "outputs": [
    {
     "data": {
      "image/png": "[encoded data removed]",
      "text/plain": [
       "<Figure size 700x700 with 1 Axes>"
      ]
     },
     "metadata": {},
     "output_type": "display_data"
    }
   ],
   "source": [
    "# setting the bar color and x label lists\n",
    "bar_colors=['brown', 'red', 'white', 'yellow', 'lightblue', 'orange']\n",
    "x_labels=['Brown\\nDwarf', 'Red\\nDwarf', 'White\\nDwarf', 'Main\\nSequence', 'Supergiants', 'Hypergiants']\n",
    "\n",
    "# setting the figure size in inches\n",
    "# figsize=(inch, inch)\n",
    "plt.figure(figsize=(7,7))\n",
    "\n",
    "# setting the plot style dark or default(white)\n",
    "plt.style.use('dark_background')\n",
    "# plt.style.use('default')\n",
    "\n",
    "# plotting the basic bar graph\n",
    "ax = star_df['Star type'].value_counts().plot(kind=\"bar\", color=bar_colors)\n",
    "\n",
    "ax.bar_label(ax.containers[0], color='red')\n",
    "\n",
    "# setting the plot title, labeling the x and y ticks\n",
    "plt.title(\"Visualize star count per star type\", color='royalblue', weight=\"bold\")\n",
    "plt.yticks(color=\"tab:pink\")\n",
    "plt.ylabel(\"# stars\", color=\"white\", weight=\"bold\", fontsize=13)\n",
    "plt.xticks(ticks=[0,1,2,3,4,5], labels=x_labels, rotation=45, color='lime')\n",
    "\n",
    "# save the plot\n",
    "# save before plt.show() -> after plt.show() is called, a new figure is created.\n",
    "# print(base_dir)\n",
    "plt.savefig(base_dir+'barplot_star_count.png')\n",
    "\n",
    "# remove plt.show() and it will display the intermediate steps, followed by the plot\n",
    "# this ensures only the final plot is displayed\n",
    "plt.show()"
   ]
  },
  {
   "cell_type": "code",
   "execution_count": 15,
   "metadata": {},
   "outputs": [
    {
     "name": "stdout",
     "output_type": "stream",
     "text": [
      "<BarContainer object of 6 artists>\n",
      "Rectangle(xy=(-0.25, 0), width=0.5, height=40, angle=0)\n",
      "Rectangle(xy=(0.75, 0), width=0.5, height=40, angle=0)\n",
      "Rectangle(xy=(1.75, 0), width=0.5, height=40, angle=0)\n",
      "Rectangle(xy=(2.75, 0), width=0.5, height=40, angle=0)\n",
      "Rectangle(xy=(3.75, 0), width=0.5, height=40, angle=0)\n",
      "Rectangle(xy=(4.75, 0), width=0.5, height=40, angle=0)\n"
     ]
    }
   ],
   "source": [
    "print(ax.containers[0])\n",
    "print(ax.containers[0][0])\n",
    "print(ax.containers[0][1])\n",
    "print(ax.containers[0][2])\n",
    "print(ax.containers[0][3])\n",
    "print(ax.containers[0][4])\n",
    "print(ax.containers[0][5])"
   ]
  },
  {
   "cell_type": "code",
   "execution_count": 16,
   "metadata": {},
   "outputs": [
    {
     "data": {
      "text/plain": [
       "<Axes: title={'center': 'Visualize star count per star type'}, xlabel='Star type', ylabel='# stars'>"
      ]
     },
     "execution_count": 16,
     "metadata": {},
     "output_type": "execute_result"
    }
   ],
   "source": [
    "ax\n",
    "# print(ax)"
   ]
  },
  {
   "cell_type": "code",
   "execution_count": 17,
   "metadata": {},
   "outputs": [
    {
     "name": "stdout",
     "output_type": "stream",
     "text": [
      "Axes(0.125,0.11;0.775x0.77)\n"
     ]
    }
   ],
   "source": [
    "print(ax)"
   ]
  },
  {
   "cell_type": "code",
   "execution_count": 18,
   "metadata": {},
   "outputs": [],
   "source": [
    "ax.bar_label?"
   ]
  },
  {
   "cell_type": "code",
   "execution_count": 19,
   "metadata": {},
   "outputs": [
    {
     "name": "stdout",
     "output_type": "stream",
     "text": [
      "<bound method Axes.bar_label of <Axes: title={'center': 'Visualize star count per star type'}, xlabel='Star type', ylabel='# stars'>>\n"
     ]
    }
   ],
   "source": [
    "print(ax.bar_label)"
   ]
  },
  {
   "cell_type": "code",
   "execution_count": 20,
   "metadata": {
    "scrolled": true
   },
   "outputs": [
    {
     "data": {
      "text/plain": [
       "matplotlib.axes._axes.Axes"
      ]
     },
     "execution_count": 20,
     "metadata": {},
     "output_type": "execute_result"
    }
   ],
   "source": [
    "type(ax)"
   ]
  },
  {
   "cell_type": "code",
   "execution_count": 21,
   "metadata": {},
   "outputs": [],
   "source": [
    "plt.figure?"
   ]
  },
  {
   "cell_type": "code",
   "execution_count": 22,
   "metadata": {},
   "outputs": [
    {
     "data": {
      "text/plain": [
       "<function matplotlib.style.core.use(style)>"
      ]
     },
     "execution_count": 22,
     "metadata": {},
     "output_type": "execute_result"
    }
   ],
   "source": [
    "plt.style.use"
   ]
  },
  {
   "cell_type": "code",
   "execution_count": 23,
   "metadata": {},
   "outputs": [
    {
     "name": "stdout",
     "output_type": "stream",
     "text": [
      "<function use at 0x1582e9440>\n"
     ]
    }
   ],
   "source": [
    "print(plt.style.use)"
   ]
  },
  {
   "cell_type": "code",
   "execution_count": 24,
   "metadata": {},
   "outputs": [],
   "source": [
    "plt.style.use?"
   ]
  },
  {
   "cell_type": "code",
   "execution_count": 25,
   "metadata": {},
   "outputs": [
    {
     "data": {
      "text/plain": [
       "[Text(0, 0, '40'),\n",
       " Text(0, 0, '40'),\n",
       " Text(0, 0, '40'),\n",
       " Text(0, 0, '40'),\n",
       " Text(0, 0, '40'),\n",
       " Text(0, 0, '40')]"
      ]
     },
     "execution_count": 25,
     "metadata": {},
     "output_type": "execute_result"
    }
   ],
   "source": [
    "ax.bar_label(ax.containers[0], color='red')"
   ]
  },
  {
   "cell_type": "markdown",
   "metadata": {},
   "source": [
    "# Plot using Seaborn\n",
    "### Seaborn is built on top of Matplotlib, therefore by default in barplot everything like x-labels, x-ticks etc are mentioned.\n",
    "### Inorder to change these use Matplotlib functions.\n",
    "### Whereas in Matplotlib, we need to define the above mentioned exclusively."
   ]
  },
  {
   "cell_type": "code",
   "execution_count": 26,
   "metadata": {},
   "outputs": [
    {
     "data": {
      "text/plain": [
       "0        Red\n",
       "1        Red\n",
       "2        Red\n",
       "3        Red\n",
       "4        Red\n",
       "       ...  \n",
       "235     Blue\n",
       "236     Blue\n",
       "237    White\n",
       "238    White\n",
       "239     Blue\n",
       "Name: Star color, Length: 240, dtype: object"
      ]
     },
     "execution_count": 26,
     "metadata": {},
     "output_type": "execute_result"
    }
   ],
   "source": [
    "star_df['Star color']"
   ]
  },
  {
   "cell_type": "code",
   "execution_count": 27,
   "metadata": {},
   "outputs": [
    {
     "data": {
      "text/plain": [
       "Star color\n",
       "Red             116\n",
       "Blue             56\n",
       "Blue-White       41\n",
       "Yellow-White     15\n",
       "White            12\n",
       "Name: count, dtype: int64"
      ]
     },
     "execution_count": 27,
     "metadata": {},
     "output_type": "execute_result"
    }
   ],
   "source": [
    "star_df['Star color'].value_counts()"
   ]
  },
  {
   "cell_type": "code",
   "execution_count": 28,
   "metadata": {},
   "outputs": [
    {
     "data": {
      "text/plain": [
       "Index(['Red', 'Blue', 'Blue-White', 'Yellow-White', 'White'], dtype='object', name='Star color')"
      ]
     },
     "execution_count": 28,
     "metadata": {},
     "output_type": "execute_result"
    }
   ],
   "source": [
    "star_df['Star color'].value_counts().index"
   ]
  },
  {
   "cell_type": "code",
   "execution_count": 29,
   "metadata": {},
   "outputs": [
    {
     "data": {
      "text/plain": [
       "array([116,  56,  41,  15,  12])"
      ]
     },
     "execution_count": 29,
     "metadata": {},
     "output_type": "execute_result"
    }
   ],
   "source": [
    "star_df['Star color'].value_counts().values"
   ]
  },
  {
   "cell_type": "code",
   "execution_count": 30,
   "metadata": {},
   "outputs": [
    {
     "name": "stdout",
     "output_type": "stream",
     "text": [
      "116\n",
      "56\n",
      "41\n",
      "15\n",
      "15\n",
      "12\n"
     ]
    }
   ],
   "source": [
    "print(star_df['Star color'].value_counts()[0])\n",
    "print(star_df['Star color'].value_counts()[1])\n",
    "print(star_df['Star color'].value_counts()[2])\n",
    "print(star_df['Star color'].value_counts()[3])\n",
    "print(star_df['Star color'].value_counts()['Yellow-White'])\n",
    "print(star_df['Star color'].value_counts()[4])"
   ]
  },
  {
   "cell_type": "code",
   "execution_count": 35,
   "metadata": {},
   "outputs": [
    {
     "data": {
      "text/plain": [
       "<Axes: xlabel='Star color'>"
      ]
     },
     "execution_count": 35,
     "metadata": {},
     "output_type": "execute_result"
    },
    {
     "data": {
      "image/png": "[encoded data removed]",
      "text/plain": [
       "<Figure size 640x480 with 1 Axes>"
      ]
     },
     "metadata": {},
     "output_type": "display_data"
    }
   ],
   "source": [
    "sns.barplot(x=star_df['Star color'].value_counts().index, y=star_df['Star color'].value_counts().values)\n",
    "\n",
    "# To remove \"<Axes: xlabel='Star color'>\" use plt.show()"
   ]
  },
  {
   "cell_type": "code",
   "execution_count": 59,
   "metadata": {},
   "outputs": [
    {
     "data": {
      "image/png": "[encoded data removed]",
      "text/plain": [
       "<Figure size 640x480 with 1 Axes>"
      ]
     },
     "metadata": {},
     "output_type": "display_data"
    }
   ],
   "source": [
    "ax = sns.barplot(x=star_df['Star color'].value_counts().index,\n",
    "            y=star_df['Star color'].value_counts().values,\n",
    "            palette='viridis')\n",
    "\n",
    "ax.bar_label(ax.containers[0], color='red', weight='bold')\n",
    "\n",
    "plt.title('Visualizing the star color count', fontsize=15, color='lightblue', weight='bold')\n",
    "\n",
    "# xlabel comes by default, if we need to make it bold, we need to add it excusively, as shown below\n",
    "# plt.xlabel('Star color', weight='bold')\n",
    "\n",
    "plt.xticks(rotation=15, color='cyan', weight='bold', fontsize=11)\n",
    "\n",
    "plt.ylabel('Star color count', color='white', fontsize=11, weight='bold')\n",
    "\n",
    "plt.yticks(color='tab:pink')\n",
    "\n",
    "# To remove \"<Axes: xlabel='Star color'>\" use plt.show()\n",
    "\n",
    "plt.show()"
   ]
  },
  {
   "cell_type": "code",
   "execution_count": null,
   "metadata": {},
   "outputs": [],
   "source": []
  }
 ],
 "metadata": {
  "colab": {
   "provenance": []
  },
  "kernelspec": {
   "display_name": "Python 3 (ipykernel)",
   "language": "python",
   "name": "python3"
  },
  "language_info": {
   "codemirror_mode": {
    "name": "ipython",
    "version": 3
   },
   "file_extension": ".py",
   "mimetype": "text/x-python",
   "name": "python",
   "nbconvert_exporter": "python",
   "pygments_lexer": "ipython3",
   "version": "3.11.5"
  }
 },
 "nbformat": 4,
 "nbformat_minor": 1
}
